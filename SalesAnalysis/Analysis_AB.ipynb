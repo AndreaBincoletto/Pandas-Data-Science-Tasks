{
 "cells": [
  {
   "cell_type": "code",
   "execution_count": null,
   "source": [
    "### import libraries\r\n",
    "import pandas as pd"
   ],
   "outputs": [],
   "metadata": {}
  },
  {
   "cell_type": "code",
   "execution_count": null,
   "source": [
    "### Open a single sales data file to exploit the file\r\n",
    "# path = C:\\Users\\bincoletto\\OneDrive - Area Science Park\\Documenti\\GitHub\\Pandas-Data-Science-Tasks\\SalesAnalysis\\Sales_Data\\Sales_April_2019.csv\r\n",
    "\r\n",
    "\r\n"
   ],
   "outputs": [],
   "metadata": {}
  },
  {
   "cell_type": "code",
   "execution_count": null,
   "source": [
    "### merges 12 months of sales data into a single file\r\n"
   ],
   "outputs": [],
   "metadata": {}
  }
 ],
 "metadata": {
  "orig_nbformat": 4,
  "language_info": {
   "name": "python",
   "version": "3.9.5",
   "mimetype": "text/x-python",
   "codemirror_mode": {
    "name": "ipython",
    "version": 3
   },
   "pygments_lexer": "ipython3",
   "nbconvert_exporter": "python",
   "file_extension": ".py"
  },
  "kernelspec": {
   "name": "python3",
   "display_name": "Python 3.9.5 64-bit"
  },
  "interpreter": {
   "hash": "b064d4558d4a786f812faaf9ac3f7668fb592f3692264d27feaced3008c2acdb"
  }
 },
 "nbformat": 4,
 "nbformat_minor": 2
}